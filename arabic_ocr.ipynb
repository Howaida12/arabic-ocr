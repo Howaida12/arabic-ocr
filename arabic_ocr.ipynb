{
 "cells": [
  {
   "cell_type": "markdown",
   "metadata": {},
   "source": [
    "# Optical Character Recognition of Arabic Characters\n",
    "\n",
    "Classifiying Arabic characters. For more details please visit [this link](https://www.kaggle.com/mloey1/ahdd1)"
   ]
  },
  {
   "cell_type": "markdown",
   "metadata": {},
   "source": [
    "### Importing necessary libraries"
   ]
  },
  {
   "cell_type": "code",
   "execution_count": 1,
   "metadata": {},
   "outputs": [],
   "source": [
    "import numpy as np\n",
    "import pandas as pd\n",
    "from matplotlib import pyplot as plt"
   ]
  },
  {
   "cell_type": "markdown",
   "metadata": {},
   "source": [
    "### Loading training dataset"
   ]
  },
  {
   "cell_type": "code",
   "execution_count": 2,
   "metadata": {},
   "outputs": [
    {
     "name": "stdout",
     "output_type": "stream",
     "text": [
      "Training images\n",
      "Training labels\n"
     ]
    }
   ],
   "source": [
    "# load training data\n",
    "x_train = pd.read_csv('./dataset/csvTrainImages 13440x1024.csv')\n",
    "print(\"Training images\")\n",
    "x_train.head()\n",
    "\n",
    "# load training labels\n",
    "y_train = pd.read_csv('./dataset/csvTrainLabel 13440x1.csv')\n",
    "print(\"Training labels\")\n",
    "y_train.head()\n",
    "\n",
    "# convert x_train dataframe to numpy ndarray and transpose each image using swapaxes.\n",
    "x_train = x_train.values.reshape([-1,32,32]).swapaxes(1,2)\n",
    "\n",
    "# convert y_train dataframe to numpy ndarray and remove all extra dimensions.\n",
    "y_train = y_train.values.squeeze()"
   ]
  },
  {
   "cell_type": "markdown",
   "metadata": {},
   "source": [
    "### Loading test dataset"
   ]
  },
  {
   "cell_type": "code",
   "execution_count": 3,
   "metadata": {
    "collapsed": true
   },
   "outputs": [],
   "source": [
    "valid_test_split = 0.5\n",
    "\n",
    "# load test data\n",
    "x_test = pd.read_csv('./dataset/csvTestImages 3360x1024.csv')\n",
    "x_test.head()\n",
    "x_test = x_test.values.reshape([-1,32,32]).swapaxes(1,2)\n",
    "\n",
    "# load test labels\n",
    "y_test = pd.read_csv('./dataset/csvTestLabel 3360x1.csv')\n",
    "y_test.head()\n",
    "y_test = y_test.values.squeeze()"
   ]
  },
  {
   "cell_type": "markdown",
   "metadata": {},
   "source": [
    "### Creating validation and test splits of the test set"
   ]
  },
  {
   "cell_type": "code",
   "execution_count": 4,
   "metadata": {},
   "outputs": [
    {
     "name": "stdout",
     "output_type": "stream",
     "text": [
      "x_train shape: (13439, 32, 32)\n",
      "x_val shape: (1679, 32, 32)\n",
      "x_test shape: (1680, 32, 32)\n",
      "y_train shape: (13439,)\n",
      "y_val shape: (1679,)\n",
      "y_test shape: (1680,)\n"
     ]
    }
   ],
   "source": [
    "m_test = y_test.shape[0]\n",
    "x_val = x_test[ : int(m_test * valid_test_split) ]\n",
    "x_test = x_test[ int(m_test * valid_test_split) : ]\n",
    "\n",
    "y_val = y_test[ : int(m_test * valid_test_split) ]\n",
    "y_test = y_test[ int(m_test * valid_test_split) : ]\n",
    "\n",
    "print(\"x_train shape:\", x_train.shape)\n",
    "print(\"x_val shape:\", x_val.shape)\n",
    "print(\"x_test shape:\", x_test.shape)\n",
    "\n",
    "print(\"y_train shape:\", y_train.shape)\n",
    "print(\"y_val shape:\", y_val.shape)\n",
    "print(\"y_test shape:\", y_test.shape)\n"
   ]
  },
  {
   "cell_type": "code",
   "execution_count": 7,
   "metadata": {},
   "outputs": [
    {
     "data": {
      "image/png": "[encoded data removed]",
      "text/plain": [
       "<matplotlib.figure.Figure at 0x7fbaf9f3ca90>"
      ]
     },
     "metadata": {},
     "output_type": "display_data"
    }
   ],
   "source": [
    "fig = plt.figure(0, figsize=(10,10))\n",
    "indices = np.random.randint(0, y_train.shape[0], size=25)\n",
    "\n",
    "\n",
    "for i, idx in enumerate(indices):\n",
    "    plt.subplot(5,5,i+1)\n",
    "    plt.imshow(x_train[idx], cmap='gray')\n",
    "    plt.title(str(y_train[idx]))\n",
    "    plt.xticks([])\n",
    "    plt.yticks([])\n",
    "plt.show()"
   ]
  },
  {
   "cell_type": "markdown",
   "metadata": {},
   "source": [
    "### Preprcoessing"
   ]
  },
  {
   "cell_type": "code",
   "execution_count": 7,
   "metadata": {
    "collapsed": true
   },
   "outputs": [],
   "source": [
    "x_train /= 255.0\n",
    "x_val /= 255.0\n",
    "x_test /= 255.0"
   ]
  },
  {
   "cell_type": "markdown",
   "metadata": {},
   "source": [
    "### Building the classification model"
   ]
  },
  {
   "cell_type": "code",
   "execution_count": 8,
   "metadata": {
    "collapsed": true
   },
   "outputs": [],
   "source": [
    "import tensorflow as tf\n",
    "from tensorflow.contrib import layers"
   ]
  },
  {
   "cell_type": "code",
   "execution_count": null,
   "metadata": {
    "collapsed": true
   },
   "outputs": [],
   "source": []
  }
 ],
 "metadata": {
  "kernelspec": {
   "display_name": "Python 3",
   "language": "python",
   "name": "python3"
  },
  "language_info": {
   "codemirror_mode": {
    "name": "ipython",
    "version": 3
   },
   "file_extension": ".py",
   "mimetype": "text/x-python",
   "name": "python",
   "nbconvert_exporter": "python",
   "pygments_lexer": "ipython3",
   "version": "3.6.1"
  }
 },
 "nbformat": 4,
 "nbformat_minor": 2
}
