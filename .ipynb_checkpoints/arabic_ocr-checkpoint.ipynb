{
 "cells": [
  {
   "cell_type": "markdown",
   "metadata": {},
   "source": [
    "# Optical Character Recognition of Arabic Characters\n",
    "\n",
    "Classifiying Arabic characters. For more details please visit [this link](https://www.kaggle.com/mloey1/ahdd1)"
   ]
  },
  {
   "cell_type": "markdown",
   "metadata": {},
   "source": [
    "### Importing necessary libraries"
   ]
  },
  {
   "cell_type": "code",
   "execution_count": 1,
   "metadata": {},
   "outputs": [],
   "source": [
    "import numpy as np\n",
    "import pandas as pd\n",
    "from matplotlib import pyplot as plt"
   ]
  },
  {
   "cell_type": "markdown",
   "metadata": {},
   "source": [
    "### Loading training dataset"
   ]
  },
  {
   "cell_type": "code",
   "execution_count": 2,
   "metadata": {},
   "outputs": [
    {
     "name": "stdout",
     "output_type": "stream",
     "text": [
      "Training images\n",
      "Training labels\n"
     ]
    }
   ],
   "source": [
    "# load training data\n",
    "x_train = pd.read_csv('./dataset/csvTrainImages 13440x1024.csv')\n",
    "print(\"Training images\")\n",
    "x_train.head()\n",
    "\n",
    "# load training labels\n",
    "y_train = pd.read_csv('./dataset/csvTrainLabel 13440x1.csv')\n",
    "print(\"Training labels\")\n",
    "y_train.head()\n",
    "\n",
    "# convert x_train dataframe to numpy ndarray and transpose each image using swapaxes.\n",
    "x_train = x_train.values.reshape([-1,32,32]).swapaxes(1,2)\n",
    "\n",
    "# convert y_train dataframe to numpy ndarray and remove all extra dimensions.\n",
    "y_train = y_train.values.squeeze()"
   ]
  },
  {
   "cell_type": "markdown",
   "metadata": {},
   "source": [
    "### Loading test dataset"
   ]
  },
  {
   "cell_type": "code",
   "execution_count": 3,
   "metadata": {},
   "outputs": [],
   "source": [
    "valid_test_split = 0.5\n",
    "\n",
    "# load test data\n",
    "x_test = pd.read_csv('./dataset/csvTestImages 3360x1024.csv')\n",
    "x_test.head()\n",
    "x_test = x_test.values.reshape([-1,32,32]).swapaxes(1,2)\n",
    "\n",
    "# load test labels\n",
    "y_test = pd.read_csv('./dataset/csvTestLabel 3360x1.csv')\n",
    "y_test.head()\n",
    "y_test = y_test.values.squeeze()"
   ]
  },
  {
   "cell_type": "markdown",
   "metadata": {},
   "source": [
    "### Creating validation and test splits of the test set"
   ]
  },
  {
   "cell_type": "code",
   "execution_count": 4,
   "metadata": {},
   "outputs": [
    {
     "name": "stdout",
     "output_type": "stream",
     "text": [
      "x_train shape: (13439, 32, 32)\n",
      "x_val shape: (1679, 32, 32)\n",
      "x_test shape: (1680, 32, 32)\n",
      "y_train shape: (13439,)\n",
      "y_val shape: (1679,)\n",
      "y_test shape: (1680,)\n"
     ]
    }
   ],
   "source": [
    "m_test = y_test.shape[0]\n",
    "x_val = x_test[ : int(m_test * valid_test_split) ]\n",
    "x_test = x_test[ int(m_test * valid_test_split) : ]\n",
    "\n",
    "y_val = y_test[ : int(m_test * valid_test_split) ]\n",
    "y_test = y_test[ int(m_test * valid_test_split) : ]\n",
    "\n",
    "print(\"x_train shape:\", x_train.shape)\n",
    "print(\"x_val shape:\", x_val.shape)\n",
    "print(\"x_test shape:\", x_test.shape)\n",
    "\n",
    "print(\"y_train shape:\", y_train.shape)\n",
    "print(\"y_val shape:\", y_val.shape)\n",
    "print(\"y_test shape:\", y_test.shape)\n"
   ]
  },
  {
   "cell_type": "code",
   "execution_count": 5,
   "metadata": {},
   "outputs": [
    {
     "data": {
      "image/png": "[encoded data removed]",
      "text/plain": [
       "<Figure size 720x720 with 25 Axes>"
      ]
     },
     "metadata": {},
     "output_type": "display_data"
    }
   ],
   "source": [
    "fig = plt.figure(0, figsize=(10,10))\n",
    "indices = np.random.randint(0, y_train.shape[0], size=25)\n",
    "\n",
    "\n",
    "for i, idx in enumerate(indices):\n",
    "    plt.subplot(5,5,i+1)\n",
    "    plt.imshow(x_train[idx], cmap='gray')\n",
    "    plt.title(str(y_train[idx]))\n",
    "    plt.xticks([])\n",
    "    plt.yticks([])\n",
    "plt.show()"
   ]
  },
  {
   "cell_type": "markdown",
   "metadata": {},
   "source": [
    "### Preprcoessing"
   ]
  },
  {
   "cell_type": "code",
   "execution_count": 6,
   "metadata": {},
   "outputs": [],
   "source": [
    "x_train = x_train / 255.0\n",
    "x_val = x_val / 255.0\n",
    "x_test = x_test / 255.0"
   ]
  },
  {
   "cell_type": "code",
   "execution_count": 14,
   "metadata": {},
   "outputs": [],
   "source": [
    "x_train = x_train[:,:,:,None]\n",
    "x_val = x_val[:,:,:,None]\n",
    "x_val = x_val[:,:,:,None]"
   ]
  },
  {
   "cell_type": "code",
   "execution_count": 7,
   "metadata": {},
   "outputs": [
    {
     "name": "stdout",
     "output_type": "stream",
     "text": [
      "(13439, 28)\n",
      "(1679, 28)\n",
      "(1680, 28)\n"
     ]
    },
    {
     "name": "stderr",
     "output_type": "stream",
     "text": [
      "/home/osama/anaconda3/lib/python3.7/site-packages/sklearn/preprocessing/_encoders.py:415: FutureWarning: The handling of integer data will change in version 0.22. Currently, the categories are determined based on the range [0, max(values)], while in the future they will be determined based on the unique values.\n",
      "If you want the future behaviour and silence this warning, you can specify \"categories='auto'\".\n",
      "In case you used a LabelEncoder before this OneHotEncoder to convert the categories to integers, then you can now use the OneHotEncoder directly.\n",
      "  warnings.warn(msg, FutureWarning)\n",
      "/home/osama/anaconda3/lib/python3.7/site-packages/sklearn/preprocessing/_encoders.py:415: FutureWarning: The handling of integer data will change in version 0.22. Currently, the categories are determined based on the range [0, max(values)], while in the future they will be determined based on the unique values.\n",
      "If you want the future behaviour and silence this warning, you can specify \"categories='auto'\".\n",
      "In case you used a LabelEncoder before this OneHotEncoder to convert the categories to integers, then you can now use the OneHotEncoder directly.\n",
      "  warnings.warn(msg, FutureWarning)\n",
      "/home/osama/anaconda3/lib/python3.7/site-packages/sklearn/preprocessing/_encoders.py:415: FutureWarning: The handling of integer data will change in version 0.22. Currently, the categories are determined based on the range [0, max(values)], while in the future they will be determined based on the unique values.\n",
      "If you want the future behaviour and silence this warning, you can specify \"categories='auto'\".\n",
      "In case you used a LabelEncoder before this OneHotEncoder to convert the categories to integers, then you can now use the OneHotEncoder directly.\n",
      "  warnings.warn(msg, FutureWarning)\n"
     ]
    }
   ],
   "source": [
    "from sklearn.preprocessing import OneHotEncoder\n",
    "\n",
    "one_hot = OneHotEncoder()\n",
    "y_train = one_hot.fit_transform(y_train[:, None]).toarray()\n",
    "y_val = one_hot.fit_transform(y_val[:, None]).toarray()\n",
    "y_test = one_hot.fit_transform(y_test[:, None]).toarray()\n",
    "\n",
    "print(y_train.shape)\n",
    "print(y_val.shape)\n",
    "print(y_test.shape)"
   ]
  },
  {
   "cell_type": "markdown",
   "metadata": {},
   "source": [
    "### Building the classification model"
   ]
  },
  {
   "cell_type": "code",
   "execution_count": 34,
   "metadata": {},
   "outputs": [],
   "source": [
    "import keras\n",
    "from keras.models import Sequential\n",
    "from keras.layers import Dense, Conv2D, MaxPool2D, Flatten, GlobalAveragePooling2D, BatchNormalization, Dropout"
   ]
  },
  {
   "cell_type": "code",
   "execution_count": 36,
   "metadata": {},
   "outputs": [
    {
     "name": "stdout",
     "output_type": "stream",
     "text": [
      "_________________________________________________________________\n",
      "Layer (type)                 Output Shape              Param #   \n",
      "=================================================================\n",
      "conv2d_46 (Conv2D)           (None, 28, 28, 16)        416       \n",
      "_________________________________________________________________\n",
      "batch_normalization_21 (Batc (None, 28, 28, 16)        112       \n",
      "_________________________________________________________________\n",
      "conv2d_47 (Conv2D)           (None, 14, 14, 32)        2080      \n",
      "_________________________________________________________________\n",
      "batch_normalization_22 (Batc (None, 14, 14, 32)        56        \n",
      "_________________________________________________________________\n",
      "conv2d_48 (Conv2D)           (None, 10, 10, 64)        51264     \n",
      "_________________________________________________________________\n",
      "batch_normalization_23 (Batc (None, 10, 10, 64)        40        \n",
      "_________________________________________________________________\n",
      "conv2d_49 (Conv2D)           (None, 5, 5, 128)         32896     \n",
      "_________________________________________________________________\n",
      "batch_normalization_24 (Batc (None, 5, 5, 128)         20        \n",
      "_________________________________________________________________\n",
      "global_average_pooling2d_7 ( (None, 128)               0         \n",
      "_________________________________________________________________\n",
      "dropout_2 (Dropout)          (None, 128)               0         \n",
      "_________________________________________________________________\n",
      "dense_13 (Dense)             (None, 128)               16512     \n",
      "_________________________________________________________________\n",
      "batch_normalization_25 (Batc (None, 128)               512       \n",
      "_________________________________________________________________\n",
      "dense_14 (Dense)             (None, 28)                3612      \n",
      "=================================================================\n",
      "Total params: 107,520\n",
      "Trainable params: 107,150\n",
      "Non-trainable params: 370\n",
      "_________________________________________________________________\n"
     ]
    }
   ],
   "source": [
    "classifier = Sequential()\n",
    "classifier.add(Conv2D(16, 5, strides=1, padding='valid', activation='relu', input_shape=[32, 32, 1]))\n",
    "classifier.add(BatchNormalization(axis=2))\n",
    "\n",
    "classifier.add(Conv2D(32, 2, strides=2, padding='valid', activation='relu'))\n",
    "classifier.add(BatchNormalization(axis=2))\n",
    "\n",
    "classifier.add(Conv2D(64, 5, strides=1, padding='valid', activation='relu'))\n",
    "classifier.add(BatchNormalization(axis=2))\n",
    "\n",
    "classifier.add(Conv2D(128, 2, strides=2, padding='valid', activation='relu'))\n",
    "classifier.add(BatchNormalization(axis=2))\n",
    "\n",
    "classifier.add(GlobalAveragePooling2D())\n",
    "\n",
    "classifier.add(Dropout(rate=0.2))\n",
    "classifier.add(Dense(128, activation='relu'))\n",
    "classifier.add(BatchNormalization(axis=1))\n",
    "\n",
    "classifier.add(Dropout(rate=0.2))\n",
    "classifier.add(Dense(28, activation='softmax'))\n",
    "\n",
    "classifier.compile(loss='categorical_crossentropy', optimizer='adam', metrics=['accuracy'])\n",
    "classifier.summary()"
   ]
  },
  {
   "cell_type": "code",
   "execution_count": null,
   "metadata": {},
   "outputs": [],
   "source": [
    "# training\n",
    "from keras.callbacks import ModelCheckpoint\n",
    "chkpt = ModelCheckpoint('arabic_ocr_best_weights.md5', verbose=1, save_best_only=True)\n",
    "\n",
    "classifier.fit(x_train,\n",
    "               y_train,\n",
    "               batch_size=512,\n",
    "               epochs=5,\n",
    "               verbose=2,\n",
    "               validation_data=(x_val, y_val),\n",
    "               callbacks=chkpt)"
   ]
  },
  {
   "cell_type": "code",
   "execution_count": null,
   "metadata": {},
   "outputs": [],
   "source": [
    "classifier.evaluate(x_test, y_test)"
   ]
  }
 ],
 "metadata": {
  "kernelspec": {
   "display_name": "Python 3",
   "language": "python",
   "name": "python3"
  },
  "language_info": {
   "codemirror_mode": {
    "name": "ipython",
    "version": 3
   },
   "file_extension": ".py",
   "mimetype": "text/x-python",
   "name": "python",
   "nbconvert_exporter": "python",
   "pygments_lexer": "ipython3",
   "version": "3.7.3"
  }
 },
 "nbformat": 4,
 "nbformat_minor": 2
}
